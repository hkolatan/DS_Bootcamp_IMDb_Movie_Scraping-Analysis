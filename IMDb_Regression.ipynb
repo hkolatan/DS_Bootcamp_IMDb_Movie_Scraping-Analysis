{
 "cells": [
  {
   "cell_type": "markdown",
   "id": "22af6813-629b-4e93-828a-245c12d81050",
   "metadata": {},
   "source": [
    "## IMDB Regression"
   ]
  },
  {
   "cell_type": "code",
   "execution_count": null,
   "id": "d3b6ff59-87b0-48cb-9aeb-f3012412eef9",
   "metadata": {},
   "outputs": [],
   "source": [
    "import pandas as pd\n",
    "import numpy as np\n",
    "import statsmodels.api as sm\n",
    "import statsmodels.formula.api as sm\n",
    "from sklearn.model_selection import train_test_split\n",
    "from sklearn.linear_model import LinearRegression\n",
    "from sklearn.pipeline import Pipeline\n",
    "from sklearn.metrics import mean_squared_error\n",
    "from sklearn.linear_model import Lasso,Ridge"
   ]
  },
  {
   "cell_type": "code",
   "execution_count": 111,
   "id": "488555de-f4a3-49c2-baf3-e3b1ef218cd4",
   "metadata": {
    "tags": []
   },
   "outputs": [],
   "source": [
    "# X ve Y değişkenlerimizi oluşturma\n",
    "X = df_combined.loc[:,[\"Year\", \"Runtime\", \"Gross US & Canada\", \"Votes\", \"Metascore\", \"Estimated Revenue\", \"Budget\"]]\n",
    "y = df_combined[\"Rating\"]\n",
    "\n",
    "\n",
    "# Train/Test Ayrımı\n",
    "X_train, x_test, Y_train, y_test = train_test_split(X, y, test_size=0.2, random_state=42)\n",
    "\n",
    "# Train/Validation Ayrımı\n",
    "x_train, x_val, y_train, y_val = train_test_split(X_train, Y_train, test_size=0.25, random_state=42)"
   ]
  },
  {
   "cell_type": "code",
   "execution_count": 112,
   "id": "98d22148-ed58-4dce-ab04-ac8978aefa59",
   "metadata": {
    "tags": []
   },
   "outputs": [
    {
     "name": "stdout",
     "output_type": "stream",
     "text": [
      "X Train: (2910, 7)\n",
      "X Validation: (971, 7)\n",
      "X test: (971, 7)\n"
     ]
    }
   ],
   "source": [
    "print('X Train:', x_train.shape)\n",
    "print('X Validation:', x_val.shape)\n",
    "print('X test:', x_test.shape)"
   ]
  },
  {
   "cell_type": "code",
   "execution_count": 113,
   "id": "4c6ef09f-33b5-4ff6-8e48-e9719d51322f",
   "metadata": {
    "tags": []
   },
   "outputs": [
    {
     "name": "stdout",
     "output_type": "stream",
     "text": [
      "MSE:  0.293127793963753\n",
      "R2 Score:  0.6423414808677816\n"
     ]
    }
   ],
   "source": [
    "lreg = LinearRegression()\n",
    "\n",
    "lreg.fit(x_train, y_train)\n",
    "\n",
    "pred = lreg.predict(x_val)\n",
    "\n",
    "# MSE Hesabı\n",
    "mse = np.mean((pred - y_val)**2)\n",
    "print(\"MSE: \", mse)\n",
    "\n",
    "# R2 Skor\n",
    "print(\"R2 Score: \", lreg.score(x_val, y_val))"
   ]
  },
  {
   "cell_type": "code",
   "execution_count": 114,
   "id": "e24f7234-24a9-4149-9699-b9971b71d1b7",
   "metadata": {
    "tags": []
   },
   "outputs": [
    {
     "data": {
      "text/html": [
       "<table class=\"simpletable\">\n",
       "<caption>OLS Regression Results</caption>\n",
       "<tr>\n",
       "  <th>Dep. Variable:</th>         <td>Rating</td>      <th>  R-squared (uncentered):</th>      <td>   0.993</td> \n",
       "</tr>\n",
       "<tr>\n",
       "  <th>Model:</th>                   <td>OLS</td>       <th>  Adj. R-squared (uncentered):</th> <td>   0.993</td> \n",
       "</tr>\n",
       "<tr>\n",
       "  <th>Method:</th>             <td>Least Squares</td>  <th>  F-statistic:       </th>          <td>6.662e+04</td>\n",
       "</tr>\n",
       "<tr>\n",
       "  <th>Date:</th>             <td>Mon, 15 May 2023</td> <th>  Prob (F-statistic):</th>           <td>  0.00</td>  \n",
       "</tr>\n",
       "<tr>\n",
       "  <th>Time:</th>                 <td>14:14:48</td>     <th>  Log-Likelihood:    </th>          <td> -2437.3</td> \n",
       "</tr>\n",
       "<tr>\n",
       "  <th>No. Observations:</th>      <td>  2910</td>      <th>  AIC:               </th>          <td>   4887.</td> \n",
       "</tr>\n",
       "<tr>\n",
       "  <th>Df Residuals:</th>          <td>  2904</td>      <th>  BIC:               </th>          <td>   4922.</td> \n",
       "</tr>\n",
       "<tr>\n",
       "  <th>Df Model:</th>              <td>     6</td>      <th>                     </th>              <td> </td>    \n",
       "</tr>\n",
       "<tr>\n",
       "  <th>Covariance Type:</th>      <td>nonrobust</td>    <th>                     </th>              <td> </td>    \n",
       "</tr>\n",
       "</table>\n",
       "<table class=\"simpletable\">\n",
       "<tr>\n",
       "          <td></td>             <th>coef</th>     <th>std err</th>      <th>t</th>      <th>P>|t|</th>  <th>[0.025</th>    <th>0.975]</th>  \n",
       "</tr>\n",
       "<tr>\n",
       "  <th>Year</th>              <td>    0.0019</td> <td> 3.22e-05</td> <td>   57.722</td> <td> 0.000</td> <td>    0.002</td> <td>    0.002</td>\n",
       "</tr>\n",
       "<tr>\n",
       "  <th>Runtime</th>           <td>    0.0084</td> <td>    0.001</td> <td>   14.094</td> <td> 0.000</td> <td>    0.007</td> <td>    0.010</td>\n",
       "</tr>\n",
       "<tr>\n",
       "  <th>Gross US & Canada</th> <td>-8.673e-10</td> <td> 8.21e-11</td> <td>  -10.566</td> <td> 0.000</td> <td>-1.03e-09</td> <td>-7.06e-10</td>\n",
       "</tr>\n",
       "<tr>\n",
       "  <th>Votes</th>             <td> 1.133e-06</td> <td> 6.15e-08</td> <td>   18.431</td> <td> 0.000</td> <td> 1.01e-06</td> <td> 1.25e-06</td>\n",
       "</tr>\n",
       "<tr>\n",
       "  <th>Metascore</th>         <td>    0.0328</td> <td>    0.001</td> <td>   50.175</td> <td> 0.000</td> <td>    0.032</td> <td>    0.034</td>\n",
       "</tr>\n",
       "<tr>\n",
       "  <th>Estimated Revenue</th> <td> 2.753e-10</td> <td> 9.37e-11</td> <td>    2.939</td> <td> 0.003</td> <td> 9.16e-11</td> <td> 4.59e-10</td>\n",
       "</tr>\n",
       "<tr>\n",
       "  <th>Budget</th>            <td>-2.434e-09</td> <td> 2.58e-10</td> <td>   -9.419</td> <td> 0.000</td> <td>-2.94e-09</td> <td>-1.93e-09</td>\n",
       "</tr>\n",
       "</table>\n",
       "<table class=\"simpletable\">\n",
       "<tr>\n",
       "  <th>Omnibus:</th>       <td>374.580</td> <th>  Durbin-Watson:     </th> <td>   2.001</td> \n",
       "</tr>\n",
       "<tr>\n",
       "  <th>Prob(Omnibus):</th> <td> 0.000</td>  <th>  Jarque-Bera (JB):  </th> <td> 906.139</td> \n",
       "</tr>\n",
       "<tr>\n",
       "  <th>Skew:</th>          <td>-0.737</td>  <th>  Prob(JB):          </th> <td>1.72e-197</td>\n",
       "</tr>\n",
       "<tr>\n",
       "  <th>Kurtosis:</th>      <td> 5.303</td>  <th>  Cond. No.          </th> <td>1.68e+16</td> \n",
       "</tr>\n",
       "</table><br/><br/>Notes:<br/>[1] R² is computed without centering (uncentered) since the model does not contain a constant.<br/>[2] Standard Errors assume that the covariance matrix of the errors is correctly specified.<br/>[3] The smallest eigenvalue is 4.65e-13. This might indicate that there are<br/>strong multicollinearity problems or that the design matrix is singular."
      ],
      "text/plain": [
       "<class 'statsmodels.iolib.summary.Summary'>\n",
       "\"\"\"\n",
       "                                 OLS Regression Results                                \n",
       "=======================================================================================\n",
       "Dep. Variable:                 Rating   R-squared (uncentered):                   0.993\n",
       "Model:                            OLS   Adj. R-squared (uncentered):              0.993\n",
       "Method:                 Least Squares   F-statistic:                          6.662e+04\n",
       "Date:                Mon, 15 May 2023   Prob (F-statistic):                        0.00\n",
       "Time:                        14:14:48   Log-Likelihood:                         -2437.3\n",
       "No. Observations:                2910   AIC:                                      4887.\n",
       "Df Residuals:                    2904   BIC:                                      4922.\n",
       "Df Model:                           6                                                  \n",
       "Covariance Type:            nonrobust                                                  \n",
       "=====================================================================================\n",
       "                        coef    std err          t      P>|t|      [0.025      0.975]\n",
       "-------------------------------------------------------------------------------------\n",
       "Year                  0.0019   3.22e-05     57.722      0.000       0.002       0.002\n",
       "Runtime               0.0084      0.001     14.094      0.000       0.007       0.010\n",
       "Gross US & Canada -8.673e-10   8.21e-11    -10.566      0.000   -1.03e-09   -7.06e-10\n",
       "Votes              1.133e-06   6.15e-08     18.431      0.000    1.01e-06    1.25e-06\n",
       "Metascore             0.0328      0.001     50.175      0.000       0.032       0.034\n",
       "Estimated Revenue  2.753e-10   9.37e-11      2.939      0.003    9.16e-11    4.59e-10\n",
       "Budget            -2.434e-09   2.58e-10     -9.419      0.000   -2.94e-09   -1.93e-09\n",
       "==============================================================================\n",
       "Omnibus:                      374.580   Durbin-Watson:                   2.001\n",
       "Prob(Omnibus):                  0.000   Jarque-Bera (JB):              906.139\n",
       "Skew:                          -0.737   Prob(JB):                    1.72e-197\n",
       "Kurtosis:                       5.303   Cond. No.                     1.68e+16\n",
       "==============================================================================\n",
       "\n",
       "Notes:\n",
       "[1] R² is computed without centering (uncentered) since the model does not contain a constant.\n",
       "[2] Standard Errors assume that the covariance matrix of the errors is correctly specified.\n",
       "[3] The smallest eigenvalue is 4.65e-13. This might indicate that there are\n",
       "strong multicollinearity problems or that the design matrix is singular.\n",
       "\"\"\""
      ]
     },
     "execution_count": 114,
     "metadata": {},
     "output_type": "execute_result"
    }
   ],
   "source": [
    "# Modeli Oluşturma\n",
    "model = sm.OLS(y_train, x_train)\n",
    "\n",
    "# Modeli Eğitme\n",
    "fit = model.fit()\n",
    "\n",
    "# Oluşturduğumuz modele ilişkin özet tablosunu görüntüleme\n",
    "fit.summary()"
   ]
  },
  {
   "cell_type": "code",
   "execution_count": 91,
   "id": "38dc5343-5730-4dc4-aaef-315bb94e7bac",
   "metadata": {
    "tags": []
   },
   "outputs": [
    {
     "name": "stdout",
     "output_type": "stream",
     "text": [
      "MSE: 6.880485842604106e-28\n",
      "R2 Score: 1.0\n",
      "MSE: 7.476737949256839e-28\n",
      "R2 Score: 1.0\n"
     ]
    }
   ],
   "source": [
    "from sklearn.model_selection import train_test_split\n",
    "from sklearn.linear_model import LinearRegression\n",
    "from sklearn.metrics import mean_squared_error, r2_score\n",
    "\n",
    "# Verilerinizi eğitim, doğrulama ve test kümelerine ayırın\n",
    "X_train, X_test, y_train, y_test = train_test_split(X, y, test_size=0.2, random_state=42)\n",
    "X_train, X_val, y_train, y_val = train_test_split(X_train, y_train, test_size=0.25, random_state=42)\n",
    "\n",
    "# Modelinizi oluşturun\n",
    "model = LinearRegression()\n",
    "\n",
    "# Modeli eğitin\n",
    "model.fit(X_train, y_train)\n",
    "\n",
    "# Doğrulama verilerini kullanarak model performansını değerlendirin\n",
    "y_val_pred = model.predict(X_val)\n",
    "mse = mean_squared_error(y_val, y_val_pred)\n",
    "r2 = r2_score(y_val, y_val_pred)\n",
    "\n",
    "print(\"MSE:\", mse)\n",
    "print(\"R2 Score:\", r2)\n",
    "\n",
    "# Test verilerini kullanarak model performansını test edin\n",
    "y_test_pred = model.predict(X_test)\n",
    "mse = mean_squared_error(y_test, y_test_pred)\n",
    "r2 = r2_score(y_test, y_test_pred)\n",
    "\n",
    "print(\"MSE:\", mse)\n",
    "print(\"R2 Score:\", r2)"
   ]
  },
  {
   "cell_type": "code",
   "execution_count": 94,
   "id": "ed3f7c84-bbe5-469a-88c9-2a798b4a7b72",
   "metadata": {
    "tags": []
   },
   "outputs": [
    {
     "data": {
      "text/html": [
       "<table class=\"simpletable\">\n",
       "<caption>OLS Regression Results</caption>\n",
       "<tr>\n",
       "  <th>Dep. Variable:</th>         <td>Rating</td>      <th>  R-squared (uncentered):</th>       <td>   1.000</td> \n",
       "</tr>\n",
       "<tr>\n",
       "  <th>Model:</th>                   <td>OLS</td>       <th>  Adj. R-squared (uncentered):</th>  <td>   1.000</td> \n",
       "</tr>\n",
       "<tr>\n",
       "  <th>Method:</th>             <td>Least Squares</td>  <th>  F-statistic:       </th>           <td>4.587e+23</td>\n",
       "</tr>\n",
       "<tr>\n",
       "  <th>Date:</th>             <td>Mon, 15 May 2023</td> <th>  Prob (F-statistic):</th>            <td>  0.00</td>  \n",
       "</tr>\n",
       "<tr>\n",
       "  <th>Time:</th>                 <td>12:43:21</td>     <th>  Log-Likelihood:    </th>           <td>  60889.</td> \n",
       "</tr>\n",
       "<tr>\n",
       "  <th>No. Observations:</th>      <td>  2910</td>      <th>  AIC:               </th>          <td>-1.218e+05</td>\n",
       "</tr>\n",
       "<tr>\n",
       "  <th>Df Residuals:</th>          <td>  2903</td>      <th>  BIC:               </th>          <td>-1.217e+05</td>\n",
       "</tr>\n",
       "<tr>\n",
       "  <th>Df Model:</th>              <td>     7</td>      <th>                     </th>               <td> </td>    \n",
       "</tr>\n",
       "<tr>\n",
       "  <th>Covariance Type:</th>      <td>nonrobust</td>    <th>                     </th>               <td> </td>    \n",
       "</tr>\n",
       "</table>\n",
       "<table class=\"simpletable\">\n",
       "<tr>\n",
       "              <td></td>                 <th>coef</th>     <th>std err</th>      <th>t</th>      <th>P>|t|</th>  <th>[0.025</th>    <th>0.975]</th>  \n",
       "</tr>\n",
       "<tr>\n",
       "  <th>Year</th>                      <td> 5.822e-17</td> <td> 1.67e-14</td> <td>    0.003</td> <td> 0.997</td> <td>-3.27e-14</td> <td> 3.28e-14</td>\n",
       "</tr>\n",
       "<tr>\n",
       "  <th>Runtime</th>                   <td>-4.978e-15</td> <td> 2.18e-13</td> <td>   -0.023</td> <td> 0.982</td> <td>-4.32e-13</td> <td> 4.22e-13</td>\n",
       "</tr>\n",
       "<tr>\n",
       "  <th>Budget</th>                    <td>-9.315e-10</td> <td> 7.15e-20</td> <td> -1.3e+10</td> <td> 0.000</td> <td>-9.32e-10</td> <td>-9.32e-10</td>\n",
       "</tr>\n",
       "<tr>\n",
       "  <th>Gross US & Canada</th>         <td>-3.711e-09</td> <td>  2.5e-20</td> <td>-1.48e+11</td> <td> 0.000</td> <td>-3.71e-09</td> <td>-3.71e-09</td>\n",
       "</tr>\n",
       "<tr>\n",
       "  <th>Votes</th>                     <td>-2.995e-17</td> <td>  2.3e-17</td> <td>   -1.302</td> <td> 0.193</td> <td>-7.51e-17</td> <td> 1.52e-17</td>\n",
       "</tr>\n",
       "<tr>\n",
       "  <th>Metascore</th>                 <td>   -0.1000</td> <td> 9.03e-13</td> <td>-1.11e+11</td> <td> 0.000</td> <td>   -0.100</td> <td>   -0.100</td>\n",
       "</tr>\n",
       "<tr>\n",
       "  <th>Estimated Worldwide Gross</th> <td> 2.416e-09</td> <td>  3.6e-20</td> <td> 6.71e+10</td> <td> 0.000</td> <td> 2.42e-09</td> <td> 2.42e-09</td>\n",
       "</tr>\n",
       "<tr>\n",
       "  <th>Score</th>                     <td>    2.0000</td> <td> 1.31e-11</td> <td> 1.52e+11</td> <td> 0.000</td> <td>    2.000</td> <td>    2.000</td>\n",
       "</tr>\n",
       "<tr>\n",
       "  <th>Estimated Revenue</th>         <td>-9.315e-10</td> <td> 4.83e-20</td> <td>-1.93e+10</td> <td> 0.000</td> <td>-9.32e-10</td> <td>-9.32e-10</td>\n",
       "</tr>\n",
       "</table>\n",
       "<table class=\"simpletable\">\n",
       "<tr>\n",
       "  <th>Omnibus:</th>       <td>2293.073</td> <th>  Durbin-Watson:     </th> <td>   1.262</td> \n",
       "</tr>\n",
       "<tr>\n",
       "  <th>Prob(Omnibus):</th>  <td> 0.000</td>  <th>  Jarque-Bera (JB):  </th> <td>52589.919</td>\n",
       "</tr>\n",
       "<tr>\n",
       "  <th>Skew:</th>           <td>-3.630</td>  <th>  Prob(JB):          </th> <td>    0.00</td> \n",
       "</tr>\n",
       "<tr>\n",
       "  <th>Kurtosis:</th>       <td>22.520</td>  <th>  Cond. No.          </th> <td>1.65e+16</td> \n",
       "</tr>\n",
       "</table><br/><br/>Notes:<br/>[1] R² is computed without centering (uncentered) since the model does not contain a constant.<br/>[2] Standard Errors assume that the covariance matrix of the errors is correctly specified.<br/>[3] The smallest eigenvalue is 1.05e-12. This might indicate that there are<br/>strong multicollinearity problems or that the design matrix is singular."
      ],
      "text/plain": [
       "<class 'statsmodels.iolib.summary.Summary'>\n",
       "\"\"\"\n",
       "                                 OLS Regression Results                                \n",
       "=======================================================================================\n",
       "Dep. Variable:                 Rating   R-squared (uncentered):                   1.000\n",
       "Model:                            OLS   Adj. R-squared (uncentered):              1.000\n",
       "Method:                 Least Squares   F-statistic:                          4.587e+23\n",
       "Date:                Mon, 15 May 2023   Prob (F-statistic):                        0.00\n",
       "Time:                        12:43:21   Log-Likelihood:                          60889.\n",
       "No. Observations:                2910   AIC:                                 -1.218e+05\n",
       "Df Residuals:                    2903   BIC:                                 -1.217e+05\n",
       "Df Model:                           7                                                  \n",
       "Covariance Type:            nonrobust                                                  \n",
       "=============================================================================================\n",
       "                                coef    std err          t      P>|t|      [0.025      0.975]\n",
       "---------------------------------------------------------------------------------------------\n",
       "Year                       5.822e-17   1.67e-14      0.003      0.997   -3.27e-14    3.28e-14\n",
       "Runtime                   -4.978e-15   2.18e-13     -0.023      0.982   -4.32e-13    4.22e-13\n",
       "Budget                    -9.315e-10   7.15e-20   -1.3e+10      0.000   -9.32e-10   -9.32e-10\n",
       "Gross US & Canada         -3.711e-09    2.5e-20  -1.48e+11      0.000   -3.71e-09   -3.71e-09\n",
       "Votes                     -2.995e-17    2.3e-17     -1.302      0.193   -7.51e-17    1.52e-17\n",
       "Metascore                    -0.1000   9.03e-13  -1.11e+11      0.000      -0.100      -0.100\n",
       "Estimated Worldwide Gross  2.416e-09    3.6e-20   6.71e+10      0.000    2.42e-09    2.42e-09\n",
       "Score                         2.0000   1.31e-11   1.52e+11      0.000       2.000       2.000\n",
       "Estimated Revenue         -9.315e-10   4.83e-20  -1.93e+10      0.000   -9.32e-10   -9.32e-10\n",
       "==============================================================================\n",
       "Omnibus:                     2293.073   Durbin-Watson:                   1.262\n",
       "Prob(Omnibus):                  0.000   Jarque-Bera (JB):            52589.919\n",
       "Skew:                          -3.630   Prob(JB):                         0.00\n",
       "Kurtosis:                      22.520   Cond. No.                     1.65e+16\n",
       "==============================================================================\n",
       "\n",
       "Notes:\n",
       "[1] R² is computed without centering (uncentered) since the model does not contain a constant.\n",
       "[2] Standard Errors assume that the covariance matrix of the errors is correctly specified.\n",
       "[3] The smallest eigenvalue is 1.05e-12. This might indicate that there are\n",
       "strong multicollinearity problems or that the design matrix is singular.\n",
       "\"\"\""
      ]
     },
     "execution_count": 94,
     "metadata": {},
     "output_type": "execute_result"
    }
   ],
   "source": [
    "import statsmodels.api as sm\n",
    "import statsmodels.formula.api as smf\n",
    "\n",
    "# Modeli Oluşturma\n",
    "model = sm.OLS(y_train, x_train)\n",
    "\n",
    "# Modeli Eğitme\n",
    "fit = model.fit()\n",
    "\n",
    "# Oluşturduğumuz modele ilişkin özet tablosunu görüntüleme\n",
    "fit.summary()"
   ]
  },
  {
   "cell_type": "code",
   "execution_count": 166,
   "id": "c22670e4-d5bb-4023-bb5c-71ac090bd385",
   "metadata": {
    "tags": []
   },
   "outputs": [
    {
     "name": "stdout",
     "output_type": "stream",
     "text": [
      "X Train: (2910, 5)\n",
      "X Validation: (971, 5)\n",
      "X test: (971, 5)\n"
     ]
    }
   ],
   "source": [
    "from sklearn.model_selection import train_test_split\n",
    "from sklearn.linear_model import LinearRegression\n",
    "\n",
    "# X ve Y değişkenlerimizi oluşturma\n",
    "X1 = df_combined.loc[:,[\"Year\", \"Runtime\", \"Gross US & Canada\", \"Votes\", \"Metascore\"]]\n",
    "y1 = df_combined[\"Rating\"]\n",
    "\n",
    "# Train/Test Ayrımı\n",
    "X_train2, x_test2, Y_train2, y_test2 = train_test_split(X1, y1, test_size=0.2, random_state=42)\n",
    "\n",
    "# Train/Validation Ayrımı\n",
    "x_train2, x_val2, y_train2, y_val2 = train_test_split(X_train2, Y_train2, test_size=0.25, random_state=42)\n",
    "\n",
    "print('X Train:', x_train2.shape)\n",
    "print('X Validation:', x_val2.shape)\n",
    "print('X test:', x_test2.shape)"
   ]
  },
  {
   "cell_type": "code",
   "execution_count": 167,
   "id": "d899a929-c117-40e5-8e82-2da57017c9ef",
   "metadata": {
    "tags": []
   },
   "outputs": [
    {
     "name": "stdout",
     "output_type": "stream",
     "text": [
      "MSE:  0.29504298633777776\n",
      "R2 Score:  0.6400046677696976\n"
     ]
    }
   ],
   "source": [
    "import pandas as pd\n",
    "import numpy as np\n",
    "# Modeli Oluşturma\n",
    "lreg = LinearRegression()\n",
    "\n",
    "lreg.fit(x_train2,y_train2)\n",
    "\n",
    "pred = lreg.predict(x_val2)\n",
    "\n",
    "# MSE Hesabı\n",
    "mse = np.mean((pred - y_val2)**2)\n",
    "print(\"MSE: \", mse)\n",
    "\n",
    "# R2 Skor\n",
    "print(\"R2 Score: \", lreg.score(x_val2, y_val2))"
   ]
  },
  {
   "cell_type": "code",
   "execution_count": 168,
   "id": "5ec49dc7-a984-458d-a7a7-b069092ee80b",
   "metadata": {
    "tags": []
   },
   "outputs": [
    {
     "data": {
      "text/html": [
       "<table class=\"simpletable\">\n",
       "<caption>OLS Regression Results</caption>\n",
       "<tr>\n",
       "  <th>Dep. Variable:</th>         <td>Rating</td>      <th>  R-squared (uncentered):</th>      <td>   0.993</td> \n",
       "</tr>\n",
       "<tr>\n",
       "  <th>Model:</th>                   <td>OLS</td>       <th>  Adj. R-squared (uncentered):</th> <td>   0.993</td> \n",
       "</tr>\n",
       "<tr>\n",
       "  <th>Method:</th>             <td>Least Squares</td>  <th>  F-statistic:       </th>          <td>7.815e+04</td>\n",
       "</tr>\n",
       "<tr>\n",
       "  <th>Date:</th>             <td>Mon, 15 May 2023</td> <th>  Prob (F-statistic):</th>           <td>  0.00</td>  \n",
       "</tr>\n",
       "<tr>\n",
       "  <th>Time:</th>                 <td>13:56:17</td>     <th>  Log-Likelihood:    </th>          <td> -2470.6</td> \n",
       "</tr>\n",
       "<tr>\n",
       "  <th>No. Observations:</th>      <td>  2910</td>      <th>  AIC:               </th>          <td>   4951.</td> \n",
       "</tr>\n",
       "<tr>\n",
       "  <th>Df Residuals:</th>          <td>  2905</td>      <th>  BIC:               </th>          <td>   4981.</td> \n",
       "</tr>\n",
       "<tr>\n",
       "  <th>Df Model:</th>              <td>     5</td>      <th>                     </th>              <td> </td>    \n",
       "</tr>\n",
       "<tr>\n",
       "  <th>Covariance Type:</th>      <td>nonrobust</td>    <th>                     </th>              <td> </td>    \n",
       "</tr>\n",
       "</table>\n",
       "<table class=\"simpletable\">\n",
       "<tr>\n",
       "          <td></td>             <th>coef</th>     <th>std err</th>      <th>t</th>      <th>P>|t|</th>  <th>[0.025</th>    <th>0.975]</th>  \n",
       "</tr>\n",
       "<tr>\n",
       "  <th>Year</th>              <td>    0.0019</td> <td> 3.25e-05</td> <td>   57.033</td> <td> 0.000</td> <td>    0.002</td> <td>    0.002</td>\n",
       "</tr>\n",
       "<tr>\n",
       "  <th>Runtime</th>           <td>    0.0073</td> <td>    0.001</td> <td>   12.462</td> <td> 0.000</td> <td>    0.006</td> <td>    0.008</td>\n",
       "</tr>\n",
       "<tr>\n",
       "  <th>Gross US & Canada</th> <td>-1.187e-09</td> <td> 1.77e-10</td> <td>   -6.712</td> <td> 0.000</td> <td>-1.53e-09</td> <td> -8.4e-10</td>\n",
       "</tr>\n",
       "<tr>\n",
       "  <th>Votes</th>             <td> 1.118e-06</td> <td> 6.21e-08</td> <td>   17.995</td> <td> 0.000</td> <td> 9.96e-07</td> <td> 1.24e-06</td>\n",
       "</tr>\n",
       "<tr>\n",
       "  <th>Metascore</th>         <td>    0.0342</td> <td>    0.001</td> <td>   53.386</td> <td> 0.000</td> <td>    0.033</td> <td>    0.035</td>\n",
       "</tr>\n",
       "</table>\n",
       "<table class=\"simpletable\">\n",
       "<tr>\n",
       "  <th>Omnibus:</th>       <td>320.128</td> <th>  Durbin-Watson:     </th> <td>   2.010</td> \n",
       "</tr>\n",
       "<tr>\n",
       "  <th>Prob(Omnibus):</th> <td> 0.000</td>  <th>  Jarque-Bera (JB):  </th> <td> 765.653</td> \n",
       "</tr>\n",
       "<tr>\n",
       "  <th>Skew:</th>          <td>-0.643</td>  <th>  Prob(JB):          </th> <td>5.50e-167</td>\n",
       "</tr>\n",
       "<tr>\n",
       "  <th>Kurtosis:</th>      <td> 5.159</td>  <th>  Cond. No.          </th> <td>5.96e+06</td> \n",
       "</tr>\n",
       "</table><br/><br/>Notes:<br/>[1] R² is computed without centering (uncentered) since the model does not contain a constant.<br/>[2] Standard Errors assume that the covariance matrix of the errors is correctly specified.<br/>[3] The condition number is large, 5.96e+06. This might indicate that there are<br/>strong multicollinearity or other numerical problems."
      ],
      "text/plain": [
       "<class 'statsmodels.iolib.summary.Summary'>\n",
       "\"\"\"\n",
       "                                 OLS Regression Results                                \n",
       "=======================================================================================\n",
       "Dep. Variable:                 Rating   R-squared (uncentered):                   0.993\n",
       "Model:                            OLS   Adj. R-squared (uncentered):              0.993\n",
       "Method:                 Least Squares   F-statistic:                          7.815e+04\n",
       "Date:                Mon, 15 May 2023   Prob (F-statistic):                        0.00\n",
       "Time:                        13:56:17   Log-Likelihood:                         -2470.6\n",
       "No. Observations:                2910   AIC:                                      4951.\n",
       "Df Residuals:                    2905   BIC:                                      4981.\n",
       "Df Model:                           5                                                  \n",
       "Covariance Type:            nonrobust                                                  \n",
       "=====================================================================================\n",
       "                        coef    std err          t      P>|t|      [0.025      0.975]\n",
       "-------------------------------------------------------------------------------------\n",
       "Year                  0.0019   3.25e-05     57.033      0.000       0.002       0.002\n",
       "Runtime               0.0073      0.001     12.462      0.000       0.006       0.008\n",
       "Gross US & Canada -1.187e-09   1.77e-10     -6.712      0.000   -1.53e-09    -8.4e-10\n",
       "Votes              1.118e-06   6.21e-08     17.995      0.000    9.96e-07    1.24e-06\n",
       "Metascore             0.0342      0.001     53.386      0.000       0.033       0.035\n",
       "==============================================================================\n",
       "Omnibus:                      320.128   Durbin-Watson:                   2.010\n",
       "Prob(Omnibus):                  0.000   Jarque-Bera (JB):              765.653\n",
       "Skew:                          -0.643   Prob(JB):                    5.50e-167\n",
       "Kurtosis:                       5.159   Cond. No.                     5.96e+06\n",
       "==============================================================================\n",
       "\n",
       "Notes:\n",
       "[1] R² is computed without centering (uncentered) since the model does not contain a constant.\n",
       "[2] Standard Errors assume that the covariance matrix of the errors is correctly specified.\n",
       "[3] The condition number is large, 5.96e+06. This might indicate that there are\n",
       "strong multicollinearity or other numerical problems.\n",
       "\"\"\""
      ]
     },
     "execution_count": 168,
     "metadata": {},
     "output_type": "execute_result"
    }
   ],
   "source": [
    "import statsmodels.api as sm\n",
    "import statsmodels.formula.api as smf\n",
    "\n",
    "# Modeli Oluşturma\n",
    "model2 = sm.OLS(y_train2, x_train2)\n",
    "\n",
    "# Modeli Eğitme\n",
    "fit2 = model2.fit()\n",
    "\n",
    "# Oluşturduğumuz modele ilişkin özet tablosunu görüntüleme\n",
    "fit2.summary()"
   ]
  }
 ],
 "metadata": {
  "kernelspec": {
   "display_name": "Python 3 (ipykernel)",
   "language": "python",
   "name": "python3"
  },
  "language_info": {
   "codemirror_mode": {
    "name": "ipython",
    "version": 3
   },
   "file_extension": ".py",
   "mimetype": "text/x-python",
   "name": "python",
   "nbconvert_exporter": "python",
   "pygments_lexer": "ipython3",
   "version": "3.8.16"
  }
 },
 "nbformat": 4,
 "nbformat_minor": 5
}
